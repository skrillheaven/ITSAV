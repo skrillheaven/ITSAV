{
 "cells": [
  {
   "cell_type": "markdown",
   "metadata": {},
   "source": [
    "# USO DE PYTHON PARA MODA, MEDIA , MEDIANA , VARIANZA\n",
    "\n",
    "Elaborado por: Jose Alberto Cruz Pascual 8 semestre \n",
    "ISC ITSAV "
   ]
  },
  {
   "cell_type": "markdown",
   "metadata": {},
   "source": [
    "Para un uso mas rapido usaremos la libreria numpy.\n",
    "INSTALAMOS numpy:"
   ]
  },
  {
   "cell_type": "code",
   "execution_count": 8,
   "metadata": {},
   "outputs": [
    {
     "name": "stdout",
     "output_type": "stream",
     "text": [
      "Requirement already satisfied: numpy in c:\\users\\escor\\appdata\\local\\packages\\pythonsoftwarefoundation.python.3.10_qbz5n2kfra8p0\\localcache\\local-packages\\python310\\site-packages (1.22.2)Note: you may need to restart the kernel to use updated packages.\n"
     ]
    },
    {
     "name": "stderr",
     "output_type": "stream",
     "text": [
      "WARNING: You are using pip version 21.2.4; however, version 22.0.3 is available.\n",
      "You should consider upgrading via the 'C:\\Users\\escor\\AppData\\Local\\Microsoft\\WindowsApps\\PythonSoftwareFoundation.Python.3.10_qbz5n2kfra8p0\\python.exe -m pip install --upgrade pip' command.\n"
     ]
    },
    {
     "name": "stdout",
     "output_type": "stream",
     "text": [
      "\n"
     ]
    }
   ],
   "source": [
    "%pip install numpy"
   ]
  },
  {
   "cell_type": "markdown",
   "metadata": {},
   "source": [
    "Luego del uso de numpy, lo mandaremos a llamar, crearemos nuestra lista y la solucion de los diferentes metodos plateados"
   ]
  },
  {
   "cell_type": "code",
   "execution_count": 6,
   "metadata": {},
   "outputs": [],
   "source": [
    "import numpy \n",
    "Calificaciones  = [ 10,8,9,7,10,8,9,8,7,5,5,3,10,2,6,5,8,10]"
   ]
  },
  {
   "cell_type": "markdown",
   "metadata": {},
   "source": [
    "## Resolviendo la MEDIA \n",
    "formula:\n",
    "x=∑x/n"
   ]
  },
  {
   "cell_type": "code",
   "execution_count": 11,
   "metadata": {},
   "outputs": [
    {
     "name": "stdout",
     "output_type": "stream",
     "text": [
      "Media de los datos [10, 8, 9, 7, 10, 8, 9, 8, 7, 5, 5, 3, 10, 2, 6, 5, 8, 10]\n",
      "es : 7.222222222222222\n"
     ]
    }
   ],
   "source": [
    "media=numpy.mean(Calificaciones)\n",
    "m=f\"\"\"Media de los datos {Calificaciones}\n",
    "es : {media}\"\"\"\n",
    "print(m)\n"
   ]
  },
  {
   "cell_type": "markdown",
   "metadata": {},
   "source": [
    "## Resolviendo la MEDIANA\n",
    "formula para pares\n",
    "ME=X (n+1)/2\n",
    "formula para impares\n",
    "ME= (X (n/2) +X(n+1)/2) /2\n"
   ]
  },
  {
   "cell_type": "code",
   "execution_count": 13,
   "metadata": {},
   "outputs": [
    {
     "name": "stdout",
     "output_type": "stream",
     "text": [
      "\"Mediana de los datos de [10, 8, 9, 7, 10, 8, 9, 8, 7, 5, 5, 3, 10, 2, 6, 5, 8, 10]\n",
      "es: 8.0\n"
     ]
    }
   ],
   "source": [
    "mediana=numpy.median(Calificaciones)\n",
    "me=f\"\"\"\"Mediana de los datos de {Calificaciones}\n",
    "es: {mediana}\"\"\"\n",
    "print(me)"
   ]
  },
  {
   "cell_type": "markdown",
   "metadata": {},
   "source": [
    "## Resolviendo la MODA\n",
    "simplemente miramos el dato que se repite con mayor frecuencia y esta será la moda.\n",
    "pero numpy no nos servira paresto , por lo que recurriremos a la libreria scipy que instalaremos "
   ]
  },
  {
   "cell_type": "code",
   "execution_count": 4,
   "metadata": {},
   "outputs": [
    {
     "name": "stderr",
     "output_type": "stream",
     "text": [
      "UsageError: Line magic function `%` not found.\n"
     ]
    }
   ],
   "source": [
    "%pip install scipy \n"
   ]
  },
  {
   "cell_type": "markdown",
   "metadata": {},
   "source": [
    "Resolviendo el ejercicio"
   ]
  },
  {
   "cell_type": "code",
   "execution_count": 8,
   "metadata": {},
   "outputs": [
    {
     "name": "stdout",
     "output_type": "stream",
     "text": [
      "\"Moda de los datos de [10, 8, 9, 7, 10, 8, 9, 8, 7, 5, 5, 3, 10, 2, 6, 5, 8, 10]\n",
      "es: ModeResult(mode=array([8]), count=array([4])) veces que se repite\n"
     ]
    }
   ],
   "source": [
    "from scipy import stats\n",
    "moda = stats.mode(Calificaciones)\n",
    "\n",
    "mo=f\"\"\"\"Moda de los datos de {Calificaciones}\n",
    "es: {moda} veces que se repite\"\"\"\n",
    "print(mo)"
   ]
  },
  {
   "cell_type": "markdown",
   "metadata": {},
   "source": [
    "## RESOLVIENDO LA VARIANZA\n",
    "Formula:\n",
    "S*2 =∑[(Xi-x)*2]/N-1"
   ]
  },
  {
   "cell_type": "code",
   "execution_count": 10,
   "metadata": {},
   "outputs": [
    {
     "name": "stdout",
     "output_type": "stream",
     "text": [
      "\"La Varianza de los datos de [10, 8, 9, 7, 10, 8, 9, 8, 7, 5, 5, 3, 10, 2, 6, 5, 8, 10]\n",
      "es: 5.617283950617284 \n"
     ]
    }
   ],
   "source": [
    "varianza=numpy.var(Calificaciones)\n",
    "va=f\"\"\"\"La Varianza de los datos de {Calificaciones}\n",
    "es: {varianza} \"\"\"\n",
    "print(va)\n"
   ]
  },
  {
   "cell_type": "markdown",
   "metadata": {},
   "source": [
    "## RESOLVIENDO LA DESVIANCIÓN ESTANDAR\n",
    "Formula: s= √[∑(Xi-x)*2]/n-1"
   ]
  },
  {
   "cell_type": "code",
   "execution_count": 11,
   "metadata": {},
   "outputs": [
    {
     "name": "stdout",
     "output_type": "stream",
     "text": [
      "\"La Desviacion Estandar de los datos de [10, 8, 9, 7, 10, 8, 9, 8, 7, 5, 5, 3, 10, 2, 6, 5, 8, 10]\n",
      "es: 2.370081000855727 \n"
     ]
    }
   ],
   "source": [
    "desviacion=numpy.std(Calificaciones)\n",
    "ds=f\"\"\"\"La Desviacion Estandar de los datos de {Calificaciones}\n",
    "es: {desviacion} \"\"\"\n",
    "print(ds)"
   ]
  }
 ],
 "metadata": {
  "interpreter": {
   "hash": "f500c8142be14955e4aa713b927e242e5a8c22ae8696407e12efb6dadcf5f629"
  },
  "kernelspec": {
   "display_name": "Python 3.10.2 64-bit (windows store)",
   "language": "python",
   "name": "python3"
  },
  "language_info": {
   "codemirror_mode": {
    "name": "ipython",
    "version": 3
   },
   "file_extension": ".py",
   "mimetype": "text/x-python",
   "name": "python",
   "nbconvert_exporter": "python",
   "pygments_lexer": "ipython3",
   "version": "3.10.2"
  },
  "orig_nbformat": 4
 },
 "nbformat": 4,
 "nbformat_minor": 2
}
