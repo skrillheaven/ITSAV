{
 "cells": [
  {
   "cell_type": "markdown",
   "metadata": {},
   "source": [
    "# EJERCICIO DE REGRESION LINEAL\n",
    "## Elaborado por: Jose Alberto Cruz Pascual 186Z0472\n",
    "Tenemos los metros cuadrados de 4 casas y sus precios, ahora vamos a calcular la \n",
    "pendiente y la interseccion para así predecir el precio de una casa de 36 m cuadrados \n",
    "usando el algoritmo de regresion lineal"
   ]
  },
  {
   "cell_type": "markdown",
   "metadata": {},
   "source": [
    "## FORMULAS \n",
    "FORMULA REQUERIDA PARA PRONOSTICO:\n",
    "\n",
    "Xt=a+bt\n",
    "\n",
    "\n",
    "FORMULA DE LA PENDIENTE:\n",
    "\n",
    "FORMULA DE LA INTERCECCION:\n",
    "\n",
    "a=X-Bt\n"
   ]
  },
  {
   "cell_type": "code",
   "execution_count": 1,
   "metadata": {},
   "outputs": [],
   "source": [
    "#DATOS DE LAS 4 CASAS\n",
    "\n",
    "metros= {\n",
    "    'C1':5,\n",
    "    'C2':15,\n",
    "    'C3':20,\n",
    "    'C4':25\n",
    "}\n",
    "precio={\n",
    "    'P1':375,\n",
    "    'P2':487,\n",
    "    'P3':450,\n",
    "    'P4':500 \n",
    "}"
   ]
  },
  {
   "cell_type": "markdown",
   "metadata": {},
   "source": [
    "## OBTENIENDO EL VALOR DE LA PENDIENTE"
   ]
  },
  {
   "cell_type": "code",
   "execution_count": 23,
   "metadata": {},
   "outputs": [
    {
     "name": "stdout",
     "output_type": "stream",
     "text": [
      "Resultado 1 30680\n",
      "Resultado 2 1812\n",
      "Resultado 3 65\n",
      "Resultado 4 1275\n",
      "Resultado 5 4225\n"
     ]
    }
   ],
   "source": [
    "#resultado de la operacion 1 (La cual consiste en multiplicar los metros cuadrados por el precio y sumar los resultados)\n",
    "opp1=(metros.get('C1'))*(precio.get('P1')) + (metros.get('C2'))*(precio.get('P2'))+(metros.get('C3'))*(precio.get('P3'))+(metros.get('C4'))*(precio.get('P4'))\n",
    "print(\"Resultado 1 \" + str(opp1))\n",
    "# probar \n",
    "#resultado de la operacion 2 suma de los precios \n",
    "opp2=precio.values()\n",
    "total_precio=0\n",
    "for vopp2 in opp2:\n",
    "    total_precio = total_precio + vopp2\n",
    "print(\"Resultado 2 \" + str(total_precio))\n",
    "\n",
    "#resultado de la operacion 3 suma de los metros \n",
    "opp3=metros.values()\n",
    "totalm=0\n",
    "for dopp3 in opp3:\n",
    "    totalm = totalm + dopp3\n",
    "print(\"Resultado 3 \" + str(totalm))\n",
    "\n",
    "#resultado de la operacion 4 suma de los metros, cada uno elevado al ^2\n",
    "opp4=metros.values()\n",
    "totalm2=0\n",
    "for dopp4 in opp4:\n",
    "    totalm2 = totalm2 + (dopp4**2)\n",
    "print(\"Resultado 4 \" + str(totalm2))\n",
    "\n",
    "#resultado de la operacion 5 suma de los metros y el resultado al ^2\n",
    "opp5=metros.values()\n",
    "total5=0\n",
    "for dopp5 in opp5:\n",
    "    total5 = total5 + dopp5\n",
    "totalalcuadrado=(total5**2)\n",
    "print(\"Resultado 5 \" + str(totalalcuadrado))\n"
   ]
  },
  {
   "cell_type": "markdown",
   "metadata": {},
   "source": [
    "### SUSTITUYENDO FORMULA"
   ]
  },
  {
   "cell_type": "code",
   "execution_count": 38,
   "metadata": {},
   "outputs": [
    {
     "name": "stdout",
     "output_type": "stream",
     "text": [
      "4940.0\n",
      "875.0\n",
      "VALOR DE LA PENDIENTE: 5.645714285714286\n"
     ]
    }
   ],
   "source": [
    "#Sustituyendo en loa formula de la pendiente\n",
    "\n",
    "pendiente= float((int(len(metros.keys())) * opp1)-(total_precio*totalm))  \n",
    "pendiente2= float(((int(len(metros.keys())))*totalm2)-(totalalcuadrado))\n",
    "pendiente_final= float(pendiente/pendiente2)\n",
    "print(pendiente)\n",
    "print(pendiente2)\n",
    "print(\"VALOR DE LA PENDIENTE: \" + str(pendiente_final))"
   ]
  },
  {
   "cell_type": "markdown",
   "metadata": {},
   "source": [
    "# OBTENIENDO LA INTERSECCION \n",
    "\n"
   ]
  },
  {
   "cell_type": "code",
   "execution_count": 42,
   "metadata": {},
   "outputs": [
    {
     "name": "stdout",
     "output_type": "stream",
     "text": [
      "Resultado 1 interseccion 453.0\n",
      "Resultado 1 interseccion 16.25\n"
     ]
    }
   ],
   "source": [
    "#OPERACION 1 MEDIA DE LOS PRECIOS\n",
    "opi1=precio.values()\n",
    "totali1=0\n",
    "for vopi1 in opi1:\n",
    "    totali1 = totali1 + vopi1\n",
    "interseccion=float(totali1/4)\n",
    "print(\"Resultado 1 interseccion \" + str(interseccion))\n",
    "\n",
    "#OPERACION 2 MEDIA DE LOS METROS\n",
    "opi2=metros.values()\n",
    "totali2=0\n",
    "for vopi2 in opi2:\n",
    "    totali2 = totali2 + vopi2\n",
    "interseccion2=float(totali2/4)\n",
    "print(\"Resultado 1 interseccion \" + str(interseccion2))"
   ]
  },
  {
   "cell_type": "markdown",
   "metadata": {},
   "source": [
    "### SUSTITUYENDO LA FORMULA"
   ]
  },
  {
   "cell_type": "code",
   "execution_count": 45,
   "metadata": {},
   "outputs": [
    {
     "name": "stdout",
     "output_type": "stream",
     "text": [
      "EL VALOR DE LA INTERSECCION ES: 361.25714285714287\n"
     ]
    }
   ],
   "source": [
    "#SUSTITUYENDO FORMULA\n",
    "interseccionF= float(interseccion - (pendiente_final*interseccion2)) \n",
    "print(\"EL VALOR DE LA INTERSECCION ES: \" + str(interseccionF))"
   ]
  },
  {
   "cell_type": "markdown",
   "metadata": {},
   "source": [
    "# OBTENIENDO EL PRONOSTICO\n",
    "Recordemos que nuestro t=35 ya que es el valor de pronostico que queremos calcular"
   ]
  },
  {
   "cell_type": "code",
   "execution_count": 46,
   "metadata": {},
   "outputs": [
    {
     "name": "stdout",
     "output_type": "stream",
     "text": [
      "EL VALOR DE TU PRONOSTICO ES: 558.8571428571429\n"
     ]
    }
   ],
   "source": [
    "t=35\n",
    "pronostico=(interseccionF)+((pendiente_final)*(t))\n",
    "print(\"EL VALOR DE TU PRONOSTICO ES: \" + str(pronostico))"
    //EL VALOR DE TU PRONOSTICO ES: 558.8571428571429
   ]
  }
 ],
 "metadata": {
  "interpreter": {
   "hash": "f500c8142be14955e4aa713b927e242e5a8c22ae8696407e12efb6dadcf5f629"
  },
  "kernelspec": {
   "display_name": "Python 3.10.2 64-bit (windows store)",
   "language": "python",
   "name": "python3"
  },
  "language_info": {
   "codemirror_mode": {
    "name": "ipython",
    "version": 3
   },
   "file_extension": ".py",
   "mimetype": "text/x-python",
   "name": "python",
   "nbconvert_exporter": "python",
   "pygments_lexer": "ipython3",
   "version": "3.10.2"
  },
  "orig_nbformat": 4
 },
 "nbformat": 4,
 "nbformat_minor": 2
}
