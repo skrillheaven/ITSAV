{
 "cells": [
  {
   "cell_type": "markdown",
   "metadata": {},
   "source": [
    "# REDES NEURONALES-COMPUERTA LOGICA OR\n",
    "\n",
    "### ELABORADO POR: JOSE ALBERTO CRUZ PASCUAL 8 SEMESTRE ISC  \n",
    "### DOCENTE:DONICIO PEREZ PEREZ\n",
    "### ITSAV MEDELLIN \n",
    "\n",
    "##### ESte ejercicio tiene la finalidad de comprender las redes neuronales y su comportamiento por medio de las compuertas logicas\n",
    "\n",
    "Estos son los datos a tener que usaremos en esta practica, en la cual desarrollaremos la sentencia para cada renglón\n",
    "\n",
    "<img src=\"img/datos.jpg\">\n"
   ]
  },
  {
   "cell_type": "markdown",
   "metadata": {},
   "source": [
    "## Definiendo las variables y ecuacion"
   ]
  },
  {
   "cell_type": "code",
   "execution_count": 68,
   "metadata": {},
   "outputs": [],
   "source": [
    "#Primero definiremos los pesos que usaremos y lo agregaremos a nuestra lista de datos\n",
    "pesos = {\n",
    "    'p1':-10,\n",
    "    'p2':20,\n",
    "    'p3':20\n",
    "}\n",
    "# dejaremos definida nuestra ecuacion para que asi podemos nosotros modificarle SOLO los valores que utilizaremos y usarlo en nuestra siguiente funcion\n",
    "#definiendo la ecuacion\n",
    "def ecuacion(x1,x2):\n",
    "    ecu = ((pesos.get('p1') )+(pesos.get('p2')*x1)+(pesos.get('p3')*x2))\n",
    "    \n",
    "    return ecu\n",
    "\n",
    "#definicion de la funcion para hacer el calculo de cada una de las lineas \n",
    "def lineas(v1,v2):\n",
    "    p=ecuacion(v1,v2)\n",
    "    if (p >0):\n",
    "        return 1\n",
    "    else: \n",
    "        return 0\n",
    "    \n",
    "    "
   ]
  },
  {
   "cell_type": "markdown",
   "metadata": {},
   "source": [
    "## Resolviendo  [0,0,0]\n",
    "\n"
   ]
  },
  {
   "cell_type": "code",
   "execution_count": 69,
   "metadata": {},
   "outputs": [
    {
     "name": "stdout",
     "output_type": "stream",
     "text": [
      "Resultado linea 1: 0\n"
     ]
    }
   ],
   "source": [
    "#funcion para obtener el valor de la linea 1\n",
    "l1  = lineas(0,0)\n",
    "print(\"Resultado linea 1: \"+str(l1))\n"
   ]
  },
  {
   "cell_type": "markdown",
   "metadata": {},
   "source": [
    "<img src=\"img/l1.jpg\">"
   ]
  },
  {
   "cell_type": "markdown",
   "metadata": {},
   "source": [
    "## Resolviendo [0,1,1]"
   ]
  },
  {
   "cell_type": "code",
   "execution_count": 70,
   "metadata": {},
   "outputs": [
    {
     "name": "stdout",
     "output_type": "stream",
     "text": [
      "Resultado linea 2: 1\n"
     ]
    }
   ],
   "source": [
    "#funcion para obtener el valor de la linea 2\n",
    "l2 =  lineas(0,1)\n",
    "print(\"Resultado linea 2: \"+ str(l2))\n",
    "    \n"
   ]
  },
  {
   "cell_type": "markdown",
   "metadata": {},
   "source": [
    "<img src=\"img/l2.jpg\">"
   ]
  },
  {
   "cell_type": "markdown",
   "metadata": {},
   "source": [
    "## Resolviendo [1,0,1]\n"
   ]
  },
  {
   "cell_type": "code",
   "execution_count": 48,
   "metadata": {},
   "outputs": [
    {
     "name": "stdout",
     "output_type": "stream",
     "text": [
      "Resultado linea 3: 1\n"
     ]
    }
   ],
   "source": [
    "#funcion para obtener el valor de la linea 3\n",
    "l3 = lineas(1,0)\n",
    "print(\"Resultado linea 3: \" +str(l3))"
   ]
  },
  {
   "cell_type": "markdown",
   "metadata": {},
   "source": [
    "<img src=\"img/l3.jpg\">"
   ]
  },
  {
   "cell_type": "markdown",
   "metadata": {},
   "source": [
    "## Resolviendo [1,1,1]"
   ]
  },
  {
   "cell_type": "code",
   "execution_count": 49,
   "metadata": {},
   "outputs": [
    {
     "name": "stdout",
     "output_type": "stream",
     "text": [
      "Resultado linea 4: 1\n"
     ]
    }
   ],
   "source": [
    "#funcion para obtener el valor de la linea 4\n",
    "l4 = lineas(1,1)\n",
    "print(\"Resultado linea 4: \" + str(l4))"
   ]
  },
  {
   "cell_type": "markdown",
   "metadata": {},
   "source": [
    "<img src=\"img/l4.jpg\">"
   ]
  },
  {
   "cell_type": "markdown",
   "metadata": {},
   "source": [
    "## Output "
   ]
  },
  {
   "cell_type": "code",
   "execution_count": 71,
   "metadata": {},
   "outputs": [
    {
     "name": "stdout",
     "output_type": "stream",
     "text": [
      "OUTPUT =[0, 1, 1, 1]\n"
     ]
    }
   ],
   "source": [
    "#definiendo la variable resultado\n",
    "resultado =[l1,l2,l3,l4]\n",
    "\n",
    "print (\"OUTPUT =\" + str(resultado))"
   ]
  },
  {
   "cell_type": "markdown",
   "metadata": {},
   "source": [
    "Este es el resultado de nuestro ejercicio\n",
    "\n",
    "\n",
    "<img src=\"img/output.jpg\">"
   ]
  }
 ],
 "metadata": {
  "interpreter": {
   "hash": "f500c8142be14955e4aa713b927e242e5a8c22ae8696407e12efb6dadcf5f629"
  },
  "kernelspec": {
   "display_name": "Python 3.10.2 64-bit (windows store)",
   "language": "python",
   "name": "python3"
  },
  "language_info": {
   "codemirror_mode": {
    "name": "ipython",
    "version": 3
   },
   "file_extension": ".py",
   "mimetype": "text/x-python",
   "name": "python",
   "nbconvert_exporter": "python",
   "pygments_lexer": "ipython3",
   "version": "3.10.2"
  },
  "orig_nbformat": 4
 },
 "nbformat": 4,
 "nbformat_minor": 2
}
